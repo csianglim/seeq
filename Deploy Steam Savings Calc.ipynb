{
 "cells": [
  {
   "cell_type": "markdown",
   "id": "ba548c32",
   "metadata": {},
   "source": [
    "# Tutorial: Creating and pushing calculated signals\n",
    "\n",
    "How to push calculated signals and scalars using Seeq Data Lab and manipulate worksheet items.\n",
    "\n",
    "- **Author:** Siang Lim\n",
    "- **Date:** June 6th 2022"
   ]
  },
  {
   "cell_type": "markdown",
   "id": "7afff2a5",
   "metadata": {},
   "source": [
    "## Background\n",
    "\n",
    "**Steam savings** is one component in a typical refinery energy dashboard.\n",
    "\n",
    "In this notebook, we will demonstrate how to use Seeq Data Lab to calculate steam savings and push the results back to the Workbench, using the following tags in the Splitter as a demo:\n",
    "\n",
    "- **53FFR412** - Stripping Steam/Bottoms Ratio\n",
    "- **53FC128** - Bottoms to FCC flow\n",
    "\n",
    "### Calculations\n",
    "Steam savings is defined relative to a baseline steam flow to bottoms. For this tag, the baseline ratio is $R_b = 7.1$.\n",
    "\n",
    "$$\n",
    "\\begin{align}\n",
    "F, \\text{Steam Saved [lb/h]}       &= (R_b - R_s) * F_B \\\\\n",
    "C, \\text{Steam Cost [\\$/(klb/h)]}  &= \\$13.51 \\quad \\text{ (from Planning dept or market prices)}\\\\\n",
    "S, \\text{Savings [\\$/day]}         &= F \\text{ [lb/h]} \\cdot C \\text{ [\\$/(klb/h)]} \\cdot 24 \\text{ [h/day]} \\cdot 1/1000 \\text{ [(klb/lb)]}\n",
    "\\end{align}\n",
    "$$\n",
    "\n",
    "Where,\n",
    "\n",
    "$$\n",
    "\\begin{align}\n",
    "R_s &= \\text{Current steam/bottoms ratio, 53FFR412, [unitless]} \\\\\n",
    "F_B &= \\text{Bottoms flow, 53FC128, [lb/h]}\n",
    "\\end{align}\n",
    "$$"
   ]
  },
  {
   "cell_type": "markdown",
   "id": "64a534f0",
   "metadata": {},
   "source": [
    "### Set up variables"
   ]
  },
  {
   "cell_type": "code",
   "execution_count": null,
   "id": "1939faa3",
   "metadata": {},
   "outputs": [],
   "source": [
    "R_b = 7.1\n",
    "cost = 13.51"
   ]
  },
  {
   "cell_type": "markdown",
   "id": "34588a2a",
   "metadata": {},
   "source": [
    "### Seeq formula\n",
    "Check out the Seeq training courses if you need a review on Seeq formulas. **Note that:** Seeq variables must start with a letter: `$f128` is valid, `$53ffr412` is not. \n",
    "\n",
    "**First, a signal:** Steam saved is a `signal`, and will be defined as follows."
   ]
  },
  {
   "cell_type": "code",
   "execution_count": null,
   "id": "94161c52",
   "metadata": {},
   "outputs": [],
   "source": [
    "steam_saved = f\"(({R_b}-$f412)*$f128/24).setUnits('lb/h')\"\n",
    "steam_saved"
   ]
  },
  {
   "cell_type": "markdown",
   "id": "ce3708f4",
   "metadata": {},
   "source": [
    "**Aside:** We've used the Python f-string syntax (as indicated by the `f` before the string) to embed expressions inside string. In this case, our expression was `R_b`. For more information on f-strings, see https://realpython.com/python-f-strings/#:~:text=%E2%80%9CF%2Dstrings%20provide%20a%20way,which%20contains%20expressions%20inside%20braces.\n"
   ]
  },
  {
   "cell_type": "markdown",
   "id": "90891e43",
   "metadata": {},
   "source": [
    "**Second, scalar:** Steam cost is a `scalar` (it has a single value), and will be defined as:"
   ]
  },
  {
   "cell_type": "code",
   "execution_count": null,
   "id": "df226cf2",
   "metadata": {},
   "outputs": [],
   "source": [
    "steam_cost = f\"({cost}).setunits('$/klb/h')\"\n",
    "steam_cost"
   ]
  },
  {
   "cell_type": "markdown",
   "id": "3d7d8003",
   "metadata": {},
   "source": [
    "**Third, another signal:** Finally, the savings per day is calculated as:"
   ]
  },
  {
   "cell_type": "code",
   "execution_count": null,
   "id": "558e61df",
   "metadata": {},
   "outputs": [],
   "source": [
    "savings = f\"($ss*$co*24*(1/1000)).setunits('$/day').remove(islessthan(0))\"\n",
    "savings"
   ]
  },
  {
   "cell_type": "markdown",
   "id": "2d2c48d5",
   "metadata": {},
   "source": [
    "## Variable assignment\n",
    "We'll need to tell Seeq what those variables are: \n",
    "\n",
    "- `$f412`\n",
    "- `f128`\n",
    "- `$ss`\n",
    "- `$co`\n",
    "\n",
    "Since `$ss` and `$co` in the savings calculation depends on previously calculated values, we will need to push the calculations to Seeq in 2 separate steps.\n",
    "\n",
    "We will see how to do this below."
   ]
  },
  {
   "cell_type": "markdown",
   "id": "8b05beb5",
   "metadata": {},
   "source": [
    "## Step 1 - Import libraries"
   ]
  },
  {
   "cell_type": "code",
   "execution_count": null,
   "id": "ff9b6773",
   "metadata": {},
   "outputs": [],
   "source": [
    "from seeq import spy\n",
    "import pandas as pd\n",
    "pd.set_option('display.max_colwidth', None)"
   ]
  },
  {
   "cell_type": "markdown",
   "id": "478b962d",
   "metadata": {},
   "source": [
    "## Step 2 - Define tags and data source"
   ]
  },
  {
   "cell_type": "markdown",
   "id": "76f73a9b",
   "metadata": {},
   "source": [
    "Replace `YOUR PI SERVER` with your PI server."
   ]
  },
  {
   "cell_type": "code",
   "execution_count": null,
   "id": "70ddab95",
   "metadata": {},
   "outputs": [],
   "source": [
    "my_items = pd.DataFrame({\n",
    "    'Name': ['53FFR412', '53FC128'],\n",
    "    'Datasource Name': 'YOUR PI SERVER'\n",
    "})\n",
    "\n",
    "my_items"
   ]
  },
  {
   "cell_type": "markdown",
   "id": "089d2bf0",
   "metadata": {},
   "source": [
    "## Step 3 - Search for tags using `spy.search`"
   ]
  },
  {
   "cell_type": "code",
   "execution_count": null,
   "id": "cc8cb4e1",
   "metadata": {},
   "outputs": [],
   "source": [
    "metadata_df = spy.search(my_items)\n",
    "metadata_df"
   ]
  },
  {
   "cell_type": "markdown",
   "id": "3de1af55",
   "metadata": {},
   "source": [
    "## Step 4 - First, push PI tags back to Seeq Workbench\n",
    "\n",
    "You can tell Seeq which workbook and worksheet you want to push the signal back to. Leave it blank and it will push it to a default SDL workbook called `Data Lab >> Data Lab Analysis` and worksheet called `From Data Lab`.\n",
    "\n",
    "More information can be found in the SPy.push documentation below using `help(spy.push)`."
   ]
  },
  {
   "cell_type": "code",
   "execution_count": null,
   "id": "b005c01e",
   "metadata": {},
   "outputs": [],
   "source": [
    "help(spy.push)"
   ]
  },
  {
   "cell_type": "code",
   "execution_count": null,
   "id": "7ba39ed1",
   "metadata": {},
   "outputs": [],
   "source": [
    "workbook_ID = '7836C665-2B4C-4B36-8262-BE5230E102A5' # Change this to where you want it\n",
    "worksheet_name = 'Dev 1'"
   ]
  },
  {
   "cell_type": "code",
   "execution_count": null,
   "id": "66783abb",
   "metadata": {},
   "outputs": [],
   "source": [
    "push_results = spy.push(\n",
    "    workbook=workbook_ID,\n",
    "    worksheet=worksheet_name,\n",
    "    metadata=metadata_df)\n",
    "\n",
    "push_results"
   ]
  },
  {
   "cell_type": "markdown",
   "id": "5969e130",
   "metadata": {},
   "source": [
    "> Navigate to the link above to see the results. You may need to replace the IP address with your Seeq server if it's not pointing to the right place (still trying to figure out how to fix this)\n",
    "\n",
    "#### WRONG: \n",
    "- http://`1.2.3.4`/892DF617-6104-4BFF-BCFC-6256FE4DFA7A/workbook/7836C665-2B4C-4B36-8262-BE5230E102A5/worksheet/9F20FD2B-F56E-4D04-8FCB-FF9A661EA39D\n",
    "\n",
    "#### RIGHT: \n",
    "- http://`MYSEEQSERVER`/892DF617-6104-4BFF-BCFC-6256FE4DFA7A/workbook/7836C665-2B4C-4B36-8262-BE5230E102A5/worksheet/9F20FD2B-F56E-4D04-8FCB-FF9A661EA39D"
   ]
  },
  {
   "cell_type": "markdown",
   "id": "f36cff10",
   "metadata": {},
   "source": [
    "## Step 4 - Define calculations\n",
    "If you have multi-step calculations where a step depends on a previous calculation, you will need to break them down into several calculations.\n",
    "\n",
    "Here, we will do the steam saved and cost of steam first. In `Formula Parameters`, we are telling Seeq to grab the IDs of `53FFR412` and `53FC128` to assign tags to the variables we've defined.\n",
    "\n",
    "> Notice that we passed an entire DataFrame row to it, Seeq will automatically parse the row to find the IDs. We could've also passed the `metadata_df` row instead of `push_results`. However, we want to display all the signals (tags + calculated values), which we will see later in this notebook. Using `push_results` makes this step easier to understand (code-wise)."
   ]
  },
  {
   "cell_type": "code",
   "execution_count": 1,
   "id": "6eebb901",
   "metadata": {},
   "outputs": [
    {
     "name": "stdout",
     "output_type": "stream",
     "text": [
      "\n",
      "\u001b[0;31mNameError: \u001b[0mname 'steam_saved' is not defined\n",
      "\n",
      "Error found at \u001b[0;36mline 3\u001b[0m in \u001b[0;32mcell 1\u001b[0m.\n"
     ]
    },
    {
     "data": {
      "application/vnd.jupyter.widget-view+json": {
       "model_id": "8f61f4af51564a09a077444228749ffd",
       "version_major": 2,
       "version_minor": 0
      },
      "text/plain": [
       "Button(description='Click to show stack trace', layout=Layout(height='auto', width='auto'), style=ButtonStyle(…"
      ]
     },
     "metadata": {},
     "output_type": "display_data"
    }
   ],
   "source": [
    "calc_signals = [{'Name': 'Steam Saved',\n",
    "                'Type': 'Signal',\n",
    "                'Formula': steam_saved,\n",
    "                'Formula Parameters': {'$f412': push_results[push_results['Name'] == '53FFR412'],\n",
    "                                       '$f128': push_results[push_results['Name'] == '53FC128'],\n",
    "                                      }\n",
    "               },\n",
    "               {'Name': 'Cost of Steam',\n",
    "                'Type': 'Scalar',\n",
    "                'Formula': steam_cost\n",
    "               }]\n",
    "df_calcs = pd.DataFrame(calc_signals)\n",
    "df_calcs"
   ]
  },
  {
   "cell_type": "markdown",
   "id": "8c7c85b9",
   "metadata": {},
   "source": [
    "## Step 6 - Push first 2 calculations to Seeq \n",
    "Now we push the first 2 calcs, then store the results as `push_results_2`."
   ]
  },
  {
   "cell_type": "code",
   "execution_count": null,
   "id": "7a4ff392",
   "metadata": {},
   "outputs": [],
   "source": [
    "push_results_2 = spy.push(\n",
    "    workbook=workbook_ID,\n",
    "    worksheet=worksheet_name,\n",
    "    metadata=df_calcs)\n",
    "\n",
    "push_results_2"
   ]
  },
  {
   "cell_type": "markdown",
   "id": "b549d0a8",
   "metadata": {},
   "source": [
    "## Step 6 - Push third calculation to Seeq \n",
    "Notice in `push_results_2`, we now have IDs for the steam saved and steam cost variables. Now we can push the savings signal and then store the results as `push_results_3`."
   ]
  },
  {
   "cell_type": "code",
   "execution_count": null,
   "id": "b2307eb1",
   "metadata": {},
   "outputs": [],
   "source": [
    "calc_signals = [{'Name': 'Savings per Day',\n",
    "                'Type': 'Signal',\n",
    "                'Formula': savings,\n",
    "                'Formula Parameters': {'$ss': push_results_2[push_results_2['Name'] == 'Steam Saved'],\n",
    "                                       '$co': push_results_2[push_results_2['Name'] == 'Cost of Steam'],\n",
    "                                      }\n",
    "               }]\n",
    "df_calcs = pd.DataFrame(calc_signals)\n",
    "df_calcs"
   ]
  },
  {
   "cell_type": "code",
   "execution_count": null,
   "id": "635df556",
   "metadata": {},
   "outputs": [],
   "source": [
    "push_results_3 = spy.push(\n",
    "    workbook=workbook_ID,\n",
    "    worksheet=worksheet_name,\n",
    "    metadata=df_calcs)\n",
    "\n",
    "push_results_3"
   ]
  },
  {
   "cell_type": "markdown",
   "id": "9f22d090",
   "metadata": {},
   "source": [
    "## Step 7 - Getting all signals displayed (Method 1)\n",
    "You may have noticed that every time we pushed a signal back to the worksheet, the earlier pushed signals are no longer displayed in the Workbench. However, they are still available in the 'Recently Accessed' menu.\n",
    "\n",
    "To make Seeq display ALL signals, we just need to combine all 3 `push_results` DataFrame and push all signals together. There are, of course, other ways to do this, that may be computationally more efficient, but this method seems to be the most straightforward (code-wise, and to understand what's going on for novice users)."
   ]
  },
  {
   "cell_type": "markdown",
   "id": "edcdd777",
   "metadata": {},
   "source": [
    "Use `pd.concat()` to merge the 3 dataframes"
   ]
  },
  {
   "cell_type": "code",
   "execution_count": null,
   "id": "4a83a77a",
   "metadata": {},
   "outputs": [],
   "source": [
    "df_combined = pd.concat([push_results, push_results_2, push_results_3]).reset_index(drop=True)\n",
    "df_combined"
   ]
  },
  {
   "cell_type": "code",
   "execution_count": null,
   "id": "d1558ab1",
   "metadata": {},
   "outputs": [],
   "source": [
    "push_results_final = spy.push(\n",
    "    workbook=workbook_ID,\n",
    "    worksheet=worksheet_name,\n",
    "    metadata=df_combined)\n",
    "\n",
    "push_results_final"
   ]
  },
  {
   "cell_type": "markdown",
   "id": "eec683ce",
   "metadata": {},
   "source": [
    "> Take a look at the Workbench, you will see that all 5 signals are now displayed."
   ]
  },
  {
   "cell_type": "markdown",
   "id": "2fb69008",
   "metadata": {},
   "source": [
    "## Step 8 - Getting all signals displayed (Method 2)\n",
    "\n",
    "Alternatively, you could also pull the worksheet using `spy.workbooks` and then modify the `display_items`."
   ]
  },
  {
   "cell_type": "code",
   "execution_count": null,
   "id": "12359fe1",
   "metadata": {},
   "outputs": [],
   "source": [
    "workbooks_df = spy.workbooks.search({\n",
    "    'ID': workbook_ID\n",
    "})\n",
    "\n",
    "workbooks_df"
   ]
  },
  {
   "cell_type": "code",
   "execution_count": null,
   "id": "112b7a94",
   "metadata": {},
   "outputs": [],
   "source": [
    "workbooks = spy.workbooks.pull(workbooks_df)\n",
    "workbooks"
   ]
  },
  {
   "cell_type": "markdown",
   "id": "76b5eb78",
   "metadata": {},
   "source": [
    "Check out the worksheets"
   ]
  },
  {
   "cell_type": "code",
   "execution_count": null,
   "id": "8330f781",
   "metadata": {},
   "outputs": [],
   "source": [
    "workbooks[0].worksheets"
   ]
  },
  {
   "cell_type": "markdown",
   "id": "4175e5c3",
   "metadata": {},
   "source": [
    "We see that the worksheet we want is the 3rd one. Let's look at the display items:"
   ]
  },
  {
   "cell_type": "code",
   "execution_count": null,
   "id": "b5bff837",
   "metadata": {},
   "outputs": [],
   "source": [
    "worksheet_items = workbooks[0].worksheets[2].display_items\n",
    "worksheet_items"
   ]
  },
  {
   "cell_type": "markdown",
   "id": "594e647b",
   "metadata": {},
   "source": [
    "It shows all 5 signals as expected. As long as we know the name and ID of a signal (tag), we can add it to the display. You could also remove a signal by removing a row here.\n",
    "\n",
    "Let's remove the first 2 signals then push it back."
   ]
  },
  {
   "cell_type": "code",
   "execution_count": null,
   "id": "4a5e6a08",
   "metadata": {},
   "outputs": [],
   "source": [
    "new_worksheet_items = worksheet_items.loc[2:,:]\n",
    "new_worksheet_items"
   ]
  },
  {
   "cell_type": "markdown",
   "id": "8a22a9ed",
   "metadata": {},
   "source": [
    "## Reassign the dataframe"
   ]
  },
  {
   "cell_type": "code",
   "execution_count": null,
   "id": "110a3f68",
   "metadata": {},
   "outputs": [],
   "source": [
    "workbooks[0].worksheets[2].display_items = new_worksheet_items"
   ]
  },
  {
   "cell_type": "markdown",
   "id": "edefb5f3",
   "metadata": {},
   "source": [
    "## Then push it back to the workbench"
   ]
  },
  {
   "cell_type": "code",
   "execution_count": null,
   "id": "e3cfba4f",
   "metadata": {},
   "outputs": [],
   "source": [
    "spy.workbooks.push(workbooks)"
   ]
  },
  {
   "cell_type": "markdown",
   "id": "1a7f3814",
   "metadata": {},
   "source": [
    "> You should see that the first 2 signals are gone now, if you navigate to the URL listed in the table above (last column)"
   ]
  }
 ],
 "metadata": {
  "kernelspec": {
   "display_name": "Python 3 (ipykernel)",
   "language": "python",
   "name": "python3"
  },
  "language_info": {
   "codemirror_mode": {
    "name": "ipython",
    "version": 3
   },
   "file_extension": ".py",
   "mimetype": "text/x-python",
   "name": "python",
   "nbconvert_exporter": "python",
   "pygments_lexer": "ipython3",
   "version": "3.8.8"
  }
 },
 "nbformat": 4,
 "nbformat_minor": 5
}
